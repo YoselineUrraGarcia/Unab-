{
  "metadata": {
    "kernelspec": {
      "name": "python",
      "display_name": "Python (Pyodide)",
      "language": "python"
    },
    "language_info": {
      "codemirror_mode": {
        "name": "python",
        "version": 3
      },
      "file_extension": ".py",
      "mimetype": "text/x-python",
      "name": "python",
      "nbconvert_exporter": "python",
      "pygments_lexer": "ipython3",
      "version": "3.8"
    }
  },
  "nbformat_minor": 4,
  "nbformat": 4,
  "cells": [
    {
      "cell_type": "markdown",
      "source": "# \"Data Science Tools and Ecosystem\"",
      "metadata": {}
    },
    {
      "cell_type": "markdown",
      "source": "\"In this notebook, Data Science Tools and Ecosystem are summarized\"",
      "metadata": {}
    },
    {
      "cell_type": "markdown",
      "source": "*Objectives:*\n\n- List popular languages for Data Science.\n- Identify commonly used libraries in Data Science.\n- Demonstrate how to evaluate arithmetic expressions in Python.",
      "metadata": {}
    },
    {
      "cell_type": "markdown",
      "source": "Some of the popular languages that Data Scientists use are:\n1. Pyton\n2. Julia\n3. SQL\n4. R",
      "metadata": {}
    },
    {
      "cell_type": "markdown",
      "source": "Some of the commonly used libraries used by Data Scientists include:\n1. Pandas\n2. Matplotlib\n3. Numpy",
      "metadata": {}
    },
    {
      "cell_type": "markdown",
      "source": "| Data Science Tools       |\n|--------------------------|\n| Apache Zeppelin             |\n| Jupyter Notebook                  |\n| RStudio    |",
      "metadata": {}
    },
    {
      "cell_type": "markdown",
      "source": "### Below are a few examples of evaluating arithmetic expressions in Python\n\n1. Addition: 4 + 2  →  6\n2. Subtraction: 6 - 4  →  2\n3. Multiplication: 2 * 6  →  12",
      "metadata": {}
    },
    {
      "cell_type": "code",
      "source": "#This a simple arithmetic expression to mutiply then add integers\n\n(3*4)+5",
      "metadata": {
        "trusted": true
      },
      "outputs": [
        {
          "execution_count": 2,
          "output_type": "execute_result",
          "data": {
            "text/plain": "17"
          },
          "metadata": {}
        }
      ],
      "execution_count": 2
    },
    {
      "cell_type": "code",
      "source": "#This will convert 200 minutes to hours by dividing by 60\nminutes = 200\nhours = minutes/60\nhours",
      "metadata": {
        "trusted": true
      },
      "outputs": [
        {
          "execution_count": 9,
          "output_type": "execute_result",
          "data": {
            "text/plain": "3.3333333333333335"
          },
          "metadata": {}
        }
      ],
      "execution_count": 9
    },
    {
      "cell_type": "markdown",
      "source": "## Autor \nYoseline Urra García ",
      "metadata": {}
    },
    {
      "cell_type": "code",
      "source": "",
      "metadata": {
        "trusted": true
      },
      "outputs": [],
      "execution_count": null
    }
  ]
}